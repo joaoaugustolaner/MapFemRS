{
 "cells": [
  {
   "cell_type": "code",
   "execution_count": 8,
   "metadata": {},
   "outputs": [
    {
     "name": "stderr",
     "output_type": "stream",
     "text": [
      "<>:59: SyntaxWarning: \"is\" with a literal. Did you mean \"==\"?\n",
      "<>:59: SyntaxWarning: \"is\" with a literal. Did you mean \"==\"?\n",
      "/var/folders/dy/9mxddykd0hsgnpqkq9jk39wm0000gn/T/ipykernel_30109/1940788264.py:59: SyntaxWarning: \"is\" with a literal. Did you mean \"==\"?\n",
      "  if __name__ is \"__main__\":\n",
      "/var/folders/dy/9mxddykd0hsgnpqkq9jk39wm0000gn/T/ipykernel_30109/1940788264.py:59: SyntaxWarning: \"is\" with a literal. Did you mean \"==\"?\n",
      "  if __name__ is \"__main__\":\n",
      "/var/folders/dy/9mxddykd0hsgnpqkq9jk39wm0000gn/T/ipykernel_30109/1940788264.py:59: SyntaxWarning: \"is\" with a literal. Did you mean \"==\"?\n",
      "  if __name__ is \"__main__\":\n"
     ]
    },
    {
     "ename": "NameError",
     "evalue": "name 'main' is not defined",
     "output_type": "error",
     "traceback": [
      "\u001b[0;31m---------------------------------------------------------------------------\u001b[0m",
      "\u001b[0;31mNameError\u001b[0m                                 Traceback (most recent call last)",
      "Cell \u001b[0;32mIn[8], line 60\u001b[0m\n\u001b[1;32m     56\u001b[0m         RawDataProcessor\u001b[38;5;241m.\u001b[39mprocessData(\u001b[38;5;28mself\u001b[39m, Path(\u001b[38;5;124mf\u001b[39m\u001b[38;5;124m'\u001b[39m\u001b[38;5;132;01m{\u001b[39;00mPath\u001b[38;5;241m.\u001b[39mhome()\u001b[38;5;132;01m}\u001b[39;00m\u001b[38;5;124m/.mapfem/data/raw\u001b[39m\u001b[38;5;124m'\u001b[39m))\n\u001b[1;32m     59\u001b[0m \u001b[38;5;28;01mif\u001b[39;00m \u001b[38;5;18m__name__\u001b[39m \u001b[38;5;129;01mis\u001b[39;00m \u001b[38;5;124m\"\u001b[39m\u001b[38;5;124m__main__\u001b[39m\u001b[38;5;124m\"\u001b[39m:\n\u001b[0;32m---> 60\u001b[0m     \u001b[43mmain\u001b[49m()\n",
      "\u001b[0;31mNameError\u001b[0m: name 'main' is not defined"
     ]
    }
   ],
   "source": [
    "#import pandas as pd\n",
    "\n",
    "import time\n",
    "from pathlib import Path\n",
    "\n",
    "import pandas as pd\n",
    "\n",
    "from pyspark import SparkConf\n",
    "from pyspark.sql import SparkSession\n",
    "from pyspark.sql import DataFrame\n",
    "from pyspark.sql.types import StructField, StructType, StringType\n",
    "\n",
    "    \n",
    "\n",
    "def processData(self, path_to_file: Path): \n",
    "    \n",
    "    #Spark info\n",
    "    conf = SparkConf().setAppName(\"MapFemRS\").setMaster(\"local\").set(\"spark.executor.memory\", \"2g\")\n",
    "    spark = SparkSession.Builder().config(conf=conf).getOrCreate()\n",
    "     \n",
    "    file = str(path_to_file + \"2024.xlsx\")\n",
    "    sheet_names = ['Feminicídio Tentado', 'Feminicídio Consumado', 'Ameaça', 'Estupro', 'Lesão Corporal']\n",
    "    \n",
    "    print(file)\n",
    "            \n",
    "    for sheet in sheet_names:\n",
    "        df = pd.read_excel(file, engine=\"openpyxl\", sheet_name=sheet, skiprows = 3, nrows = 497,  )\n",
    "\n",
    "        df = spark.createDataFrame(df)\n",
    "\n",
    "            # df = df.withColumnsRenamed({'Unnamed: 1':'CIDADES', 'Unnamed: 2':'JAN',\n",
    "            #                     'Unnamed: 3':'FEV', 'Unnamed: 4':'MAR',\n",
    "            #                     'Unnamed: 5':'ABR', 'Unnamed: 6':'MAI',\n",
    "            #                     'Unnamed: 7':'JUN', 'Unnamed: 8':'JUL',\n",
    "            #                     'Unnamed: 9':'AGO', 'Unnamed: 10':'SEP',\n",
    "            #                     'Unnamed: 11':'OUT', 'Unnamed: 12':'NOV',\n",
    "            #                     'Unnamed: 13':'DEZ', 'Unnamed: 14':'TOTAL',\n",
    "            #                         })\n",
    " \n",
    "            #df = df.drop(\"Unnamed: 0\")\n",
    "            \n",
    "            \n",
    "            \n",
    "        print(df.show(5))\n",
    "            \n",
    "           # if file_df is None:\n",
    "           #     file_df = df\n",
    "           # else: \n",
    "           #     file_df = file_df.join(other=df, on=\"CIDADES\", how=\"inner\") \n",
    "        #files_dataframes[file.stem] = file_df \n",
    "            \n",
    "    def transformData(self):\n",
    "        return\n",
    "\n",
    "    def main(self):\n",
    "        RawDataProcessor.processData(self, Path(f'{Path.home()}/.mapfem/data/raw'))\n",
    "\n",
    "\n",
    "if __name__ == \"__main__\":\n",
    "    main()"
   ]
  }
 ],
 "metadata": {
  "kernelspec": {
   "display_name": "mapfem",
   "language": "python",
   "name": "python3"
  },
  "language_info": {
   "codemirror_mode": {
    "name": "ipython",
    "version": 3
   },
   "file_extension": ".py",
   "mimetype": "text/x-python",
   "name": "python",
   "nbconvert_exporter": "python",
   "pygments_lexer": "ipython3",
   "version": "3.10.3"
  }
 },
 "nbformat": 4,
 "nbformat_minor": 2
}
